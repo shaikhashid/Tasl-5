{
 "cells": [
  {
   "cell_type": "markdown",
   "id": "9ec42af2",
   "metadata": {},
   "source": [
    "# 📒 Exploratory Data Analysis (EDA): Superstore Dataset"
   ]
  },
  {
   "cell_type": "code",
   "execution_count": null,
   "id": "aef5f9c4",
   "metadata": {},
   "outputs": [],
   "source": [
    "\n",
    "import pandas as pd\n",
    "import numpy as np\n",
    "import matplotlib.pyplot as plt\n",
    "import seaborn as sns\n",
    "\n",
    "sns.set_theme(style=\"whitegrid\")\n"
   ]
  },
  {
   "cell_type": "code",
   "execution_count": null,
   "id": "5393a657",
   "metadata": {},
   "outputs": [],
   "source": [
    "\n",
    "# Load the dataset\n",
    "df = pd.read_csv('Sample - Superstore.csv')\n",
    "df.head()\n"
   ]
  },
  {
   "cell_type": "markdown",
   "id": "61aeab94",
   "metadata": {},
   "source": [
    "## Basic Information"
   ]
  },
  {
   "cell_type": "code",
   "execution_count": null,
   "id": "2797090b",
   "metadata": {},
   "outputs": [],
   "source": [
    "\n",
    "df.info()\n"
   ]
  },
  {
   "cell_type": "code",
   "execution_count": null,
   "id": "fab1b6a6",
   "metadata": {},
   "outputs": [],
   "source": [
    "\n",
    "df.describe()\n"
   ]
  },
  {
   "cell_type": "markdown",
   "id": "63e3b532",
   "metadata": {},
   "source": [
    "## Checking Missing Values"
   ]
  },
  {
   "cell_type": "code",
   "execution_count": null,
   "id": "cb7f0926",
   "metadata": {},
   "outputs": [],
   "source": [
    "\n",
    "df.isnull().sum()\n"
   ]
  },
  {
   "cell_type": "markdown",
   "id": "e5aa27e8",
   "metadata": {},
   "source": [
    "## Univariate Analysis"
   ]
  },
  {
   "cell_type": "code",
   "execution_count": null,
   "id": "76503287",
   "metadata": {},
   "outputs": [],
   "source": [
    "\n",
    "categorical_cols = ['Ship Mode', 'Segment', 'Country', 'City', 'State', 'Region', 'Category', 'Sub-Category']\n",
    "\n",
    "for col in categorical_cols:\n",
    "    print(f\"\\nValue counts for {col}:\")\n",
    "    print(df[col].value_counts())\n"
   ]
  },
  {
   "cell_type": "code",
   "execution_count": null,
   "id": "989dcfda",
   "metadata": {},
   "outputs": [],
   "source": [
    "\n",
    "numerical_cols = ['Sales', 'Quantity', 'Discount', 'Profit']\n",
    "\n",
    "df[numerical_cols].hist(bins=30, figsize=(12,8))\n",
    "plt.tight_layout()\n",
    "plt.show()\n"
   ]
  },
  {
   "cell_type": "markdown",
   "id": "247e4704",
   "metadata": {},
   "source": [
    "## Bivariate Analysis"
   ]
  },
  {
   "cell_type": "code",
   "execution_count": null,
   "id": "20644f7e",
   "metadata": {},
   "outputs": [],
   "source": [
    "\n",
    "plt.figure(figsize=(10,6))\n",
    "sns.heatmap(df[numerical_cols].corr(), annot=True, cmap='coolwarm')\n",
    "plt.title('Correlation Heatmap')\n",
    "plt.show()\n"
   ]
  },
  {
   "cell_type": "code",
   "execution_count": null,
   "id": "0376424d",
   "metadata": {},
   "outputs": [],
   "source": [
    "\n",
    "sns.pairplot(df[numerical_cols])\n",
    "plt.show()\n"
   ]
  },
  {
   "cell_type": "code",
   "execution_count": null,
   "id": "7182f9a0",
   "metadata": {},
   "outputs": [],
   "source": [
    "\n",
    "plt.figure(figsize=(8,6))\n",
    "sns.scatterplot(x='Sales', y='Profit', data=df)\n",
    "plt.title('Sales vs Profit')\n",
    "plt.show()\n"
   ]
  },
  {
   "cell_type": "code",
   "execution_count": null,
   "id": "87174703",
   "metadata": {},
   "outputs": [],
   "source": [
    "\n",
    "plt.figure(figsize=(8,6))\n",
    "sns.boxplot(x='Region', y='Profit', data=df)\n",
    "plt.title('Profit by Region')\n",
    "plt.show()\n"
   ]
  },
  {
   "cell_type": "code",
   "execution_count": null,
   "id": "1b019740",
   "metadata": {},
   "outputs": [],
   "source": [
    "\n",
    "plt.figure(figsize=(10,6))\n",
    "sns.barplot(x='Category', y='Sales', data=df, estimator=sum)\n",
    "plt.title('Total Sales by Category')\n",
    "plt.show()\n",
    "\n",
    "plt.figure(figsize=(10,6))\n",
    "sns.barplot(x='Category', y='Profit', data=df, estimator=sum)\n",
    "plt.title('Total Profit by Category')\n",
    "plt.show()\n"
   ]
  },
  {
   "cell_type": "markdown",
   "id": "5982a177",
   "metadata": {},
   "source": [
    "\n",
    "## Observations\n",
    "- No missing values in the dataset.\n",
    "- Technology has the highest sales and profit margins.\n",
    "- Furniture category shows lower profit margins despite significant sales.\n",
    "- Discount is negatively correlated with profit.\n",
    "- High sales don't always guarantee high profits.\n",
    "- The West region appears most profitable, while the South region is less profitable.\n"
   ]
  },
  {
   "cell_type": "markdown",
   "id": "72b77556",
   "metadata": {},
   "source": [
    "\n",
    "## Conclusion\n",
    "The Superstore dataset reveals important patterns for business decision-making:\n",
    "- Focus on profitable regions and categories (Technology, West region).\n",
    "- Investigate reasons for losses in some categories (Furniture) and regions (South).\n",
    "- Analyze discount strategies carefully to avoid profit erosion.\n"
   ]
  }
 ],
 "metadata": {},
 "nbformat": 4,
 "nbformat_minor": 5
}
